{
 "cells": [
  {
   "cell_type": "code",
   "execution_count": 2,
   "metadata": {},
   "outputs": [],
   "source": [
    "import mlflow\n",
    "from mlflow import MlflowClient\n",
    "client = MlflowClient()\n",
    "\n",
    "registered_model_name = \"BTC_RNN_test\"\n",
    "model_alias = \"production\"\n",
    "\n",
    "\n",
    "def print_model_info(rm):\n",
    "    print(\"--Model--\")\n",
    "    print(\"name: {}\".format(rm.name))\n",
    "    print(\"aliases: {}\".format(rm.aliases))\n",
    "\n",
    "\n",
    "def print_model_version_info(mv):\n",
    "    print(\"--Model Version--\")\n",
    "    print(\"Name: {}\".format(mv.name))\n",
    "    print(\"Version: {}\".format(mv.version))\n",
    "    print(\"Aliases: {}\".format(mv.aliases))"
   ]
  },
  {
   "cell_type": "markdown",
   "metadata": {},
   "source": [
    "# Connect MLflow server"
   ]
  },
  {
   "cell_type": "code",
   "execution_count": null,
   "metadata": {},
   "outputs": [],
   "source": [
    "mlflow.set_tracking_uri(\"http://192.168.1.11:5000\")\n",
    "mlflow.set_experiment(experiment_name=\"btc_experiment\")\n"
   ]
  },
  {
   "cell_type": "markdown",
   "metadata": {},
   "source": [
    "# Create regitered model"
   ]
  },
  {
   "cell_type": "code",
   "execution_count": null,
   "metadata": {},
   "outputs": [],
   "source": [
    "try:\n",
    "    client.create_registered_model(registered_model_name)\n",
    "    registered_model = client.get_registered_model(registered_model_name)\n",
    "except Exception as e:\n",
    "    print(\"Model already exists\")\n",
    "\n"
   ]
  },
  {
   "cell_type": "markdown",
   "metadata": {},
   "source": [
    "# Create model version"
   ]
  },
  {
   "cell_type": "code",
   "execution_count": null,
   "metadata": {},
   "outputs": [],
   "source": [
    "\n",
    "run_id = \"841fafefe5a04bf5bf036616ce5e062b\"\n",
    "model_uri = f\"runs:/{run_id}/pytorch-model\"\n",
    "mv = client.create_model_version(registered_model_name, model_uri, run_id)\n",
    "print_model_version_info(mv)\n",
    "client.set_registered_model_alias(name=registered_model_name,\n",
    "                                  alias=model_alias,\n",
    "                                  version=mv.version)\n"
   ]
  },
  {
   "cell_type": "code",
   "execution_count": null,
   "metadata": {},
   "outputs": [],
   "source": [
    "print_model_info(registered_model)\n",
    "print_model_version_info(mv)"
   ]
  },
  {
   "cell_type": "markdown",
   "metadata": {},
   "source": [
    "# Get model by alias"
   ]
  },
  {
   "cell_type": "code",
   "execution_count": 27,
   "metadata": {},
   "outputs": [],
   "source": [
    "\n",
    "registered_model_name = \"BTC_RNN_test\"\n",
    "model_alias = \"production\"\n"
   ]
  },
  {
   "cell_type": "code",
   "execution_count": null,
   "metadata": {},
   "outputs": [],
   "source": [
    "try:\n",
    "    alias_mv = client.get_model_version_by_alias(registered_model_name, model_alias)\n",
    "    print_model_version_info(alias_mv)\n",
    "except:\n",
    "    print(\"Alias not found\")"
   ]
  },
  {
   "cell_type": "code",
   "execution_count": null,
   "metadata": {},
   "outputs": [],
   "source": [
    "alias_mv.run_id"
   ]
  },
  {
   "cell_type": "code",
   "execution_count": null,
   "metadata": {},
   "outputs": [],
   "source": [
    "print_model_version_info(alias_mv)"
   ]
  },
  {
   "cell_type": "code",
   "execution_count": null,
   "metadata": {},
   "outputs": [],
   "source": [
    "test_loss = mlflow.get_run(\"841fafefe5a04bf5bf036616ce5e062b\").data.metrics[\"test_mse_loss\"]\n",
    "test_loss"
   ]
  },
  {
   "cell_type": "markdown",
   "metadata": {},
   "source": [
    "# Load model and artifacts"
   ]
  },
  {
   "cell_type": "code",
   "execution_count": null,
   "metadata": {},
   "outputs": [],
   "source": [
    "import mlflow\n",
    "mlflow.set_tracking_uri(\"http://192.168.1.11:5000\")\n",
    "mlflow.set_experiment(experiment_name=\"btc_experiment\")"
   ]
  },
  {
   "cell_type": "code",
   "execution_count": 2,
   "metadata": {},
   "outputs": [],
   "source": [
    "from mlflow import MlflowClient\n",
    "client = MlflowClient()\n",
    "\n",
    "registered_model_name = \"BTC_RNN_test\"\n",
    "model_alias = \"production\""
   ]
  },
  {
   "cell_type": "code",
   "execution_count": 3,
   "metadata": {},
   "outputs": [],
   "source": [
    "alias_mv = client.get_model_version_by_alias(registered_model_name, model_alias)"
   ]
  },
  {
   "cell_type": "code",
   "execution_count": null,
   "metadata": {},
   "outputs": [],
   "source": [
    "alias_mv"
   ]
  },
  {
   "cell_type": "markdown",
   "metadata": {},
   "source": [
    "## Download model"
   ]
  },
  {
   "cell_type": "code",
   "execution_count": null,
   "metadata": {},
   "outputs": [],
   "source": [
    "model_uri = f\"models:/{registered_model_name}@production\"\n",
    "\n",
    "model = mlflow.pytorch.load_model(model_uri)\n",
    "\n",
    "print(model)"
   ]
  },
  {
   "cell_type": "markdown",
   "metadata": {},
   "source": [
    "## Download artifacts"
   ]
  },
  {
   "cell_type": "code",
   "execution_count": null,
   "metadata": {},
   "outputs": [],
   "source": [
    "config_artifact_uri = f\"runs:/{alias_mv.run_id}/config\"\n",
    "mlflow.artifacts.download_artifacts(config_artifact_uri, dst_path=\".\")"
   ]
  },
  {
   "cell_type": "code",
   "execution_count": null,
   "metadata": {},
   "outputs": [],
   "source": [
    "scalers_artifact_uri = f\"runs:/{alias_mv.run_id}/scalers\"\n",
    "mlflow.artifacts.download_artifacts(scalers_artifact_uri, dst_path=\".\")"
   ]
  }
 ],
 "metadata": {
  "kernelspec": {
   "display_name": "mlops2",
   "language": "python",
   "name": "python3"
  },
  "language_info": {
   "codemirror_mode": {
    "name": "ipython",
    "version": 3
   },
   "file_extension": ".py",
   "mimetype": "text/x-python",
   "name": "python",
   "nbconvert_exporter": "python",
   "pygments_lexer": "ipython3",
   "version": "3.12.7"
  }
 },
 "nbformat": 4,
 "nbformat_minor": 2
}
