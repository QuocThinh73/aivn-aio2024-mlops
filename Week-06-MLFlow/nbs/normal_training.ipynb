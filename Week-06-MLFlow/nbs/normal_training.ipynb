{
 "cells": [
  {
   "cell_type": "markdown",
   "metadata": {},
   "source": [
    "# 1. Import packages"
   ]
  },
  {
   "cell_type": "code",
   "execution_count": 20,
   "metadata": {},
   "outputs": [],
   "source": [
    "import pandas as pd\n",
    "import numpy as np\n",
    "import torch\n",
    "import torch.nn as nn\n",
    "from sklearn.preprocessing import MinMaxScaler\n",
    "from torch.utils.data import DataLoader, Dataset\n",
    "import pandas as pd\n",
    "import matplotlib.pyplot as plt"
   ]
  },
  {
   "cell_type": "code",
   "execution_count": 21,
   "metadata": {},
   "outputs": [],
   "source": [
    "VERSION = \"v0.1\"\n",
    "# VERSION = \"v0.2\"\n",
    "\n",
    "def seed_everything(seed: int):\n",
    "    import random, os\n",
    "    import numpy as np\n",
    "    import torch\n",
    "\n",
    "    random.seed(seed)\n",
    "    os.environ['PYTHONHASHSEED'] = str(seed)\n",
    "    np.random.seed(seed)\n",
    "    torch.manual_seed(seed)\n",
    "    torch.cuda.manual_seed(seed)\n",
    "    torch.backends.cudnn.deterministic = True\n",
    "    torch.backends.cudnn.benchmark = False\n",
    "\n",
    "\n",
    "seed_everything(3)"
   ]
  },
  {
   "cell_type": "markdown",
   "metadata": {},
   "source": [
    "# 2. Load data"
   ]
  },
  {
   "cell_type": "code",
   "execution_count": 22,
   "metadata": {},
   "outputs": [],
   "source": [
    "train_df = pd.read_csv(f\"../DATA/training/btc_data/{VERSION}/train.csv\")\n",
    "val_df = pd.read_csv(f\"../DATA/training/btc_data/{VERSION}/val.csv\")\n",
    "\n",
    "features = ['Open', 'High', 'Low', 'Volume']\n",
    "target = 'Price'"
   ]
  },
  {
   "cell_type": "markdown",
   "metadata": {},
   "source": [
    "# 3. Preprocess data"
   ]
  },
  {
   "cell_type": "markdown",
   "metadata": {},
   "source": [
    "## 3.1 Clean data"
   ]
  },
  {
   "cell_type": "code",
   "execution_count": 23,
   "metadata": {},
   "outputs": [],
   "source": [
    "def clean_data(df: pd.DataFrame):\n",
    "    df = df.drop(columns=['Change %'])\n",
    "    df.rename(columns={'Vol.': 'Volume'}, inplace=True)\n",
    "\n",
    "    df.sort_values('Date', inplace=True)\n",
    "    df['Volume'] = (\n",
    "        df['Volume']\n",
    "        .str.replace('K', 'e3')\n",
    "        .str.replace('M', 'e6')\n",
    "        .str.replace('B', 'e9')\n",
    "        .astype(float)\n",
    "    )\n",
    "    columns_to_clean = ['Price', 'Open', 'High', 'Low']\n",
    "    for col in columns_to_clean:\n",
    "        df[col] = df[col].str.replace(',', '').astype(float)\n",
    "\n",
    "    df = df.drop(columns=['Date'])\n",
    "    return df"
   ]
  },
  {
   "cell_type": "code",
   "execution_count": 24,
   "metadata": {},
   "outputs": [],
   "source": [
    "train_df = clean_data(train_df)\n",
    "val_df = clean_data(val_df)"
   ]
  },
  {
   "cell_type": "markdown",
   "metadata": {},
   "source": [
    "## 3.2 Scale data"
   ]
  },
  {
   "cell_type": "code",
   "execution_count": 25,
   "metadata": {},
   "outputs": [],
   "source": [
    "features_scaler = MinMaxScaler()\n",
    "target_scaler = MinMaxScaler()"
   ]
  },
  {
   "cell_type": "code",
   "execution_count": 26,
   "metadata": {},
   "outputs": [],
   "source": [
    "train_df[features] = features_scaler.fit_transform(train_df[features])\n",
    "train_df[target] = target_scaler.fit_transform(train_df[[target]])\n",
    "\n",
    "val_df[features] = features_scaler.transform(val_df[features])\n",
    "val_df[target] = target_scaler.transform(val_df[[target]])"
   ]
  },
  {
   "cell_type": "markdown",
   "metadata": {},
   "source": [
    "## 3.3 Create training data"
   ]
  },
  {
   "cell_type": "code",
   "execution_count": 27,
   "metadata": {},
   "outputs": [],
   "source": [
    "def create_sequences(data: pd.DataFrame, \n",
    "                     lookback: int=7\n",
    "                     )-> tuple:\n",
    "    X, y = [], []\n",
    "    for i in range(lookback, len(data)):\n",
    "        X.append(data.iloc[i-lookback:i].values)\n",
    "        y.append(data[target][i])\n",
    "    return np.array(X), np.array(y)"
   ]
  },
  {
   "cell_type": "code",
   "execution_count": 28,
   "metadata": {},
   "outputs": [],
   "source": [
    "LOOKBACK = 14\n",
    "\n",
    "X_train, y_train = create_sequences(train_df, LOOKBACK)\n",
    "X_val, y_val = create_sequences(val_df, LOOKBACK)"
   ]
  },
  {
   "cell_type": "markdown",
   "metadata": {},
   "source": [
    "## 3.4 Create data loader"
   ]
  },
  {
   "cell_type": "code",
   "execution_count": 29,
   "metadata": {},
   "outputs": [],
   "source": [
    "class BTCData(Dataset):\n",
    "    def __init__(self, X, y):\n",
    "        self.X = torch.tensor(X, dtype=torch.float32)\n",
    "        self.y = torch.tensor(y, dtype=torch.float32)\n",
    "\n",
    "    def __len__(self):\n",
    "        return len(self.X)\n",
    "\n",
    "    def __getitem__(self, idx):\n",
    "        return self.X[idx], self.y[idx]"
   ]
  },
  {
   "cell_type": "code",
   "execution_count": 30,
   "metadata": {},
   "outputs": [],
   "source": [
    "BATCH_SIZE = 16\n",
    "\n",
    "train_data = BTCData(X_train, y_train)\n",
    "val_data = BTCData(X_val, y_val)\n",
    "\n",
    "train_loader = DataLoader(train_data, batch_size=BATCH_SIZE, shuffle=True)\n",
    "val_loader = DataLoader(val_data, batch_size=BATCH_SIZE)"
   ]
  },
  {
   "cell_type": "markdown",
   "metadata": {},
   "source": [
    "# 4. Modeling"
   ]
  },
  {
   "cell_type": "code",
   "execution_count": 31,
   "metadata": {},
   "outputs": [],
   "source": [
    "class RNN_Model(nn.Module):\n",
    "    def __init__(self, input_size, hidden_size, output_size, num_layers):\n",
    "        super().__init__()\n",
    "        self.rnn = nn.RNN(input_size, hidden_size, num_layers, batch_first=True, bidirectional=True)\n",
    "        self.fc1 = nn.Linear(hidden_size * 2, hidden_size)\n",
    "        self.fc2 = nn.Linear(hidden_size, output_size)\n",
    "        self.relu = nn.ReLU()\n",
    "\n",
    "    def forward(self, x):\n",
    "        out, _ = self.rnn(x)\n",
    "        x = self.fc1(out[:, -1, :])\n",
    "        x = self.relu(x)\n",
    "        x = self.fc2(x)\n",
    "        return x"
   ]
  },
  {
   "cell_type": "code",
   "execution_count": 32,
   "metadata": {},
   "outputs": [],
   "source": [
    "input_size = len(features) + 1\n",
    "hidden_size = 128\n",
    "num_layers = 2\n",
    "\n",
    "model = RNN_Model(input_size=input_size,\n",
    "                  hidden_size=hidden_size, \n",
    "                  output_size=1, \n",
    "                  num_layers=num_layers)"
   ]
  },
  {
   "cell_type": "markdown",
   "metadata": {},
   "source": [
    "# 5. Training"
   ]
  },
  {
   "cell_type": "code",
   "execution_count": 33,
   "metadata": {},
   "outputs": [],
   "source": [
    "criterion = nn.MSELoss()\n",
    "optimizer = torch.optim.Adam(model.parameters(), lr=1e-3)"
   ]
  },
  {
   "cell_type": "code",
   "execution_count": 34,
   "metadata": {},
   "outputs": [],
   "source": [
    "def evaluate(model, loader):\n",
    "    model.eval()\n",
    "    running_loss = 0\n",
    "    with torch.no_grad():\n",
    "        for X, y in loader:\n",
    "            y_pred = model(X)\n",
    "            loss = criterion(y_pred.view(-1), y)\n",
    "            running_loss += loss.item()\n",
    "    return running_loss / len(loader)"
   ]
  },
  {
   "cell_type": "code",
   "execution_count": 35,
   "metadata": {},
   "outputs": [
    {
     "name": "stdout",
     "output_type": "stream",
     "text": [
      "Epoch 1, train loss: 0.004595, val loss: 0.000331\n",
      "Epoch 2, train loss: 0.000468, val loss: 0.000630\n",
      "Epoch 3, train loss: 0.000428, val loss: 0.000148\n",
      "Epoch 4, train loss: 0.000357, val loss: 0.000226\n",
      "Epoch 5, train loss: 0.000384, val loss: 0.001582\n",
      "Epoch 6, train loss: 0.000522, val loss: 0.000267\n",
      "Epoch 7, train loss: 0.000340, val loss: 0.000143\n",
      "Epoch 8, train loss: 0.000335, val loss: 0.000107\n",
      "Epoch 9, train loss: 0.000368, val loss: 0.000103\n",
      "Epoch 10, train loss: 0.000399, val loss: 0.000105\n"
     ]
    },
    {
     "data": {
      "text/plain": [
       "<All keys matched successfully>"
      ]
     },
     "execution_count": 35,
     "metadata": {},
     "output_type": "execute_result"
    }
   ],
   "source": [
    "hist = {\n",
    "    'train_loss': [],\n",
    "    'val_loss': []\n",
    "}\n",
    "\n",
    "EPOCHS = 10\n",
    "\n",
    "best_model = None\n",
    "best_loss = np.inf\n",
    "for epoch in range(EPOCHS):\n",
    "    model.train()\n",
    "    running_loss = 0\n",
    "    for i, (X_batch, y_batch) in enumerate(train_loader):\n",
    "        optimizer.zero_grad()\n",
    "        y_pred = model(X_batch)\n",
    "        loss = criterion(y_pred.view(-1), y_batch)\n",
    "        loss.backward()\n",
    "        optimizer.step()\n",
    "        running_loss += loss.item()\n",
    "\n",
    "    epoch_loss = running_loss / len(train_loader)\n",
    "    val_loss = evaluate(model, val_loader)\n",
    "    if val_loss < best_loss:\n",
    "        best_loss = val_loss\n",
    "        best_model = model.state_dict()\n",
    "\n",
    "    hist['train_loss'].append(epoch_loss)\n",
    "    hist['val_loss'].append(val_loss)\n",
    "    print(f\"Epoch {epoch + 1}, train loss: {epoch_loss:.6f}, val loss: {val_loss:.6f}\")\n",
    "\n",
    "\n",
    "model.load_state_dict(best_model)"
   ]
  },
  {
   "cell_type": "code",
   "execution_count": 36,
   "metadata": {},
   "outputs": [
    {
     "data": {
      "image/png": "[encoded data removed]",
      "text/plain": [
       "<Figure size 800x600 with 1 Axes>"
      ]
     },
     "metadata": {},
     "output_type": "display_data"
    }
   ],
   "source": [
    "plt.figure(figsize=(8, 6))\n",
    "plt.plot(hist['train_loss'], label='Train', linewidth=2)\n",
    "plt.title('Model Train Loss')\n",
    "plt.ylabel('Loss')\n",
    "plt.xlabel('Epoch')\n",
    "plt.show()"
   ]
  },
  {
   "cell_type": "code",
   "execution_count": 37,
   "metadata": {},
   "outputs": [
    {
     "data": {
      "image/png": "[encoded data removed]",
      "text/plain": [
       "<Figure size 800x600 with 1 Axes>"
      ]
     },
     "metadata": {},
     "output_type": "display_data"
    }
   ],
   "source": [
    "plt.figure(figsize=(8, 6))\n",
    "plt.plot(hist['val_loss'], label='Train', linewidth=2)\n",
    "plt.title('Model Val Loss')\n",
    "plt.ylabel('Loss')\n",
    "plt.xlabel('Epoch')\n",
    "plt.show()"
   ]
  },
  {
   "cell_type": "markdown",
   "metadata": {},
   "source": [
    "# 6. Testing"
   ]
  },
  {
   "cell_type": "code",
   "execution_count": 38,
   "metadata": {},
   "outputs": [
    {
     "name": "stdout",
     "output_type": "stream",
     "text": [
      "Test loss: 0.000109\n"
     ]
    }
   ],
   "source": [
    "test_df = pd.read_csv(f\"../DATA/training/btc_data/{VERSION}/test.csv\")\n",
    "test_df = clean_data(test_df)\n",
    "\n",
    "test_df[features] = features_scaler.transform(test_df[features])\n",
    "test_df[target] = target_scaler.transform(test_df[[target]])\n",
    "\n",
    "X_test, y_test = create_sequences(test_df, LOOKBACK)\n",
    "test_data = BTCData(X_test, y_test)\n",
    "test_loader = DataLoader(test_data, batch_size=BATCH_SIZE)\n",
    "\n",
    "test_loss = evaluate(model, test_loader)\n",
    "print(f\"Test loss: {test_loss:.6f}\")"
   ]
  },
  {
   "cell_type": "markdown",
   "metadata": {},
   "source": [
    "# 7. Prediction"
   ]
  },
  {
   "cell_type": "code",
   "execution_count": 39,
   "metadata": {},
   "outputs": [],
   "source": [
    "def predict_futures(model, input_data: pd.DataFrame, features_scaler, target_scaler, next_days=1):\n",
    "    input_data.loc[:, features] = features_scaler.transform(input_data[features])\n",
    "    input_data.loc[:, target] = target_scaler.transform(input_data[[target]])\n",
    "    X_input = torch.tensor(input_data.values, dtype=torch.float32).unsqueeze(0)\n",
    "\n",
    "    model.eval()\n",
    "    predictions = []\n",
    "    for _ in range(next_days):\n",
    "        with torch.no_grad():\n",
    "            y_pred = model(X_input)\n",
    "        y_prediction = y_pred.item()\n",
    "        predictions.append(y_prediction)\n",
    "        \n",
    "        last_row = input_data.iloc[-1].values.tolist()\n",
    "        next_input = [y_prediction] + last_row[:-1]\n",
    "        next_input = torch.tensor([next_input], dtype=torch.float32).unsqueeze(1)\n",
    "        X_input = torch.cat([X_input[:, 1:, :], next_input], dim=1)\n",
    "    \n",
    "    unscaled_predictions = target_scaler.inverse_transform(np.array(predictions).reshape(-1, 1))\n",
    "    return unscaled_predictions\n"
   ]
  },
  {
   "cell_type": "code",
   "execution_count": 41,
   "metadata": {},
   "outputs": [],
   "source": [
    "test_df = pd.read_csv(f\"../DATA/training/btc_data/v0.2/test.csv\")\n",
    "test_df = clean_data(test_df)\n",
    "\n",
    "start_date = 0\n",
    "look_date = 14\n",
    "next_days = 7\n",
    "\n",
    "predict_df = test_df[start_date:start_date+look_date]"
   ]
  },
  {
   "cell_type": "code",
   "execution_count": 42,
   "metadata": {},
   "outputs": [
    {
     "data": {
      "text/plain": [
       "array([[51168.11007746],\n",
       "       [49307.33121314],\n",
       "       [49097.41414561],\n",
       "       [48071.75763252],\n",
       "       [47303.62483438],\n",
       "       [47362.49866726],\n",
       "       [47497.8204331 ]])"
      ]
     },
     "execution_count": 42,
     "metadata": {},
     "output_type": "execute_result"
    }
   ],
   "source": [
    "futures = predict_futures(model, predict_df, features_scaler, target_scaler, next_days=next_days)\n",
    "futures"
   ]
  },
  {
   "cell_type": "code",
   "execution_count": 43,
   "metadata": {},
   "outputs": [
    {
     "data": {
      "text/plain": [
       "array([51901.3, 52134.2, 51646. , 52117.5, 51783.6, 52263.5, 51858.2])"
      ]
     },
     "execution_count": 43,
     "metadata": {},
     "output_type": "execute_result"
    }
   ],
   "source": [
    "gt_values = test_df[target].values[start_date+look_date: start_date+look_date+next_days]\n",
    "gt_values"
   ]
  },
  {
   "cell_type": "code",
   "execution_count": 44,
   "metadata": {},
   "outputs": [
    {
     "ename": "Exception",
     "evalue": "STOP",
     "output_type": "error",
     "traceback": [
      "\u001b[0;31m---------------------------------------------------------------------------\u001b[0m",
      "\u001b[0;31mException\u001b[0m                                 Traceback (most recent call last)",
      "Cell \u001b[0;32mIn[44], line 1\u001b[0m\n\u001b[0;32m----> 1\u001b[0m \u001b[38;5;28;01mraise\u001b[39;00m \u001b[38;5;167;01mException\u001b[39;00m(\u001b[38;5;124m\"\u001b[39m\u001b[38;5;124mSTOP\u001b[39m\u001b[38;5;124m\"\u001b[39m)\n",
      "\u001b[0;31mException\u001b[0m: STOP"
     ]
    }
   ],
   "source": [
    "raise Exception(\"STOP\")"
   ]
  },
  {
   "cell_type": "markdown",
   "metadata": {},
   "source": [
    "# 8. Test on new data"
   ]
  },
  {
   "cell_type": "code",
   "execution_count": 45,
   "metadata": {},
   "outputs": [
    {
     "name": "stdout",
     "output_type": "stream",
     "text": [
      "Test loss: 0.000930\n"
     ]
    }
   ],
   "source": [
    "test_df = pd.read_csv(\"../DATA/training/btc_data/v0.2/test.csv\")\n",
    "test_df = clean_data(test_df)\n",
    "\n",
    "test_df[features] = features_scaler.transform(test_df[features])\n",
    "test_df[target] = target_scaler.transform(test_df[[target]])\n",
    "\n",
    "X_test, y_test = create_sequences(test_df, LOOKBACK)\n",
    "test_data = BTCData(X_test, y_test)\n",
    "test_loader = DataLoader(test_data, batch_size=BATCH_SIZE)\n",
    "\n",
    "test_loss = evaluate(model, test_loader)\n",
    "print(f\"Test loss: {test_loss:.6f}\") # 0.001031 vs  0.000909"
   ]
  }
 ],
 "metadata": {
  "kernelspec": {
   "display_name": "mlops-final",
   "language": "python",
   "name": "python3"
  },
  "language_info": {
   "codemirror_mode": {
    "name": "ipython",
    "version": 3
   },
   "file_extension": ".py",
   "mimetype": "text/x-python",
   "name": "python",
   "nbconvert_exporter": "python",
   "pygments_lexer": "ipython3",
   "version": "3.11.9"
  }
 },
 "nbformat": 4,
 "nbformat_minor": 2
}
